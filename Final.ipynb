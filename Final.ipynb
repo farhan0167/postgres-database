{
 "cells": [
  {
   "cell_type": "markdown",
   "id": "d66d6514",
   "metadata": {},
   "source": [
    "# Convert a Kaggle Dataset into a Postgres Database\n",
    "\n",
    "In this notebook, I go over the Goodreads-book Dataset on Kaggle and store the data in a PostgresSQL Database. I go over the following:\n",
    "1. Loading the dataset\n",
    "2. Performing preliminary analysis to understand the dataset\n",
    "3. Map out a Entity-Relationship Model to store the data in a database\n",
    "4. Create database tables\n",
    "5. Populate the database tables from the dataset using Python\n",
    "6. Perform complex SQL queries to extract insights from the data"
   ]
  },
  {
   "cell_type": "code",
   "execution_count": 11,
   "id": "9b06b03a",
   "metadata": {},
   "outputs": [],
   "source": [
    "import pandas as pd\n",
    "import numpy as np"
   ]
  },
  {
   "cell_type": "code",
   "execution_count": 12,
   "id": "a99dacab",
   "metadata": {},
   "outputs": [
    {
     "name": "stdout",
     "output_type": "stream",
     "text": [
      "Homework 1.ipynb books.csv        db_cred.json\r\n"
     ]
    }
   ],
   "source": [
    "!ls"
   ]
  },
  {
   "cell_type": "markdown",
   "id": "81782aed",
   "metadata": {},
   "source": [
    "## Import Data and Data Exploration"
   ]
  },
  {
   "cell_type": "code",
   "execution_count": 13,
   "id": "74748fc5",
   "metadata": {},
   "outputs": [],
   "source": [
    "#import the data:\n",
    "df = pd.read_csv('books.csv')"
   ]
  },
  {
   "cell_type": "code",
   "execution_count": 15,
   "id": "f936a45a",
   "metadata": {},
   "outputs": [
    {
     "data": {
      "text/html": [
       "<div>\n",
       "<style scoped>\n",
       "    .dataframe tbody tr th:only-of-type {\n",
       "        vertical-align: middle;\n",
       "    }\n",
       "\n",
       "    .dataframe tbody tr th {\n",
       "        vertical-align: top;\n",
       "    }\n",
       "\n",
       "    .dataframe thead th {\n",
       "        text-align: right;\n",
       "    }\n",
       "</style>\n",
       "<table border=\"1\" class=\"dataframe\">\n",
       "  <thead>\n",
       "    <tr style=\"text-align: right;\">\n",
       "      <th></th>\n",
       "      <th>bookID</th>\n",
       "      <th>title</th>\n",
       "      <th>authors</th>\n",
       "      <th>average_rating</th>\n",
       "      <th>isbn</th>\n",
       "      <th>isbn13</th>\n",
       "      <th>language_code</th>\n",
       "      <th>num_pages</th>\n",
       "      <th>ratings_count</th>\n",
       "      <th>text_reviews_count</th>\n",
       "      <th>publication_date</th>\n",
       "      <th>publisher</th>\n",
       "    </tr>\n",
       "  </thead>\n",
       "  <tbody>\n",
       "    <tr>\n",
       "      <th>0</th>\n",
       "      <td>1.0</td>\n",
       "      <td>Harry Potter and the Half-Blood Prince (Harry ...</td>\n",
       "      <td>J.K. Rowling/Mary GrandPré</td>\n",
       "      <td>4.57</td>\n",
       "      <td>439785960</td>\n",
       "      <td>9.780000e+12</td>\n",
       "      <td>eng</td>\n",
       "      <td>652.0</td>\n",
       "      <td>2095690.0</td>\n",
       "      <td>27591.0</td>\n",
       "      <td>9/16/2006</td>\n",
       "      <td>Scholastic Inc.</td>\n",
       "    </tr>\n",
       "    <tr>\n",
       "      <th>1</th>\n",
       "      <td>2.0</td>\n",
       "      <td>Harry Potter and the Order of the Phoenix (Har...</td>\n",
       "      <td>J.K. Rowling/Mary GrandPré</td>\n",
       "      <td>4.49</td>\n",
       "      <td>439358078</td>\n",
       "      <td>9.780000e+12</td>\n",
       "      <td>eng</td>\n",
       "      <td>870.0</td>\n",
       "      <td>2153167.0</td>\n",
       "      <td>29221.0</td>\n",
       "      <td>9/1/2004</td>\n",
       "      <td>Scholastic Inc.</td>\n",
       "    </tr>\n",
       "    <tr>\n",
       "      <th>2</th>\n",
       "      <td>4.0</td>\n",
       "      <td>Harry Potter and the Chamber of Secrets (Harry...</td>\n",
       "      <td>J.K. Rowling</td>\n",
       "      <td>4.42</td>\n",
       "      <td>439554896</td>\n",
       "      <td>9.780000e+12</td>\n",
       "      <td>eng</td>\n",
       "      <td>352.0</td>\n",
       "      <td>6333.0</td>\n",
       "      <td>244.0</td>\n",
       "      <td>11/1/2003</td>\n",
       "      <td>Scholastic</td>\n",
       "    </tr>\n",
       "  </tbody>\n",
       "</table>\n",
       "</div>"
      ],
      "text/plain": [
       "   bookID                                              title  \\\n",
       "0     1.0  Harry Potter and the Half-Blood Prince (Harry ...   \n",
       "1     2.0  Harry Potter and the Order of the Phoenix (Har...   \n",
       "2     4.0  Harry Potter and the Chamber of Secrets (Harry...   \n",
       "\n",
       "                      authors  average_rating       isbn        isbn13  \\\n",
       "0  J.K. Rowling/Mary GrandPré            4.57  439785960  9.780000e+12   \n",
       "1  J.K. Rowling/Mary GrandPré            4.49  439358078  9.780000e+12   \n",
       "2                J.K. Rowling            4.42  439554896  9.780000e+12   \n",
       "\n",
       "  language_code    num_pages  ratings_count  text_reviews_count  \\\n",
       "0           eng        652.0      2095690.0             27591.0   \n",
       "1           eng        870.0      2153167.0             29221.0   \n",
       "2           eng        352.0         6333.0               244.0   \n",
       "\n",
       "  publication_date        publisher  \n",
       "0        9/16/2006  Scholastic Inc.  \n",
       "1         9/1/2004  Scholastic Inc.  \n",
       "2        11/1/2003       Scholastic  "
      ]
     },
     "execution_count": 15,
     "metadata": {},
     "output_type": "execute_result"
    }
   ],
   "source": [
    "df.head(3)"
   ]
  },
  {
   "cell_type": "code",
   "execution_count": 16,
   "id": "795d36bf",
   "metadata": {},
   "outputs": [
    {
     "name": "stdout",
     "output_type": "stream",
     "text": [
      "<class 'pandas.core.frame.DataFrame'>\n",
      "RangeIndex: 11127 entries, 0 to 11126\n",
      "Data columns (total 12 columns):\n",
      " #   Column              Non-Null Count  Dtype  \n",
      "---  ------              --------------  -----  \n",
      " 0   bookID              11123 non-null  float64\n",
      " 1   title               11123 non-null  object \n",
      " 2   authors             11123 non-null  object \n",
      " 3   average_rating      11123 non-null  float64\n",
      " 4   isbn                11123 non-null  object \n",
      " 5   isbn13              11123 non-null  float64\n",
      " 6   language_code       11123 non-null  object \n",
      " 7     num_pages         11123 non-null  float64\n",
      " 8   ratings_count       11123 non-null  float64\n",
      " 9   text_reviews_count  11123 non-null  float64\n",
      " 10  publication_date    11123 non-null  object \n",
      " 11  publisher           11123 non-null  object \n",
      "dtypes: float64(6), object(6)\n",
      "memory usage: 1.0+ MB\n"
     ]
    }
   ],
   "source": [
    "df.info()"
   ]
  },
  {
   "cell_type": "code",
   "execution_count": 17,
   "id": "695325e7",
   "metadata": {},
   "outputs": [
    {
     "data": {
      "text/plain": [
       "(11127, 12)"
      ]
     },
     "execution_count": 17,
     "metadata": {},
     "output_type": "execute_result"
    }
   ],
   "source": [
    "df.shape"
   ]
  },
  {
   "cell_type": "code",
   "execution_count": 18,
   "id": "714a8748",
   "metadata": {},
   "outputs": [
    {
     "name": "stdout",
     "output_type": "stream",
     "text": [
      "bookID:  11124\n",
      "title:  10349\n",
      "authors:  6640\n",
      "average_rating:  210\n",
      "isbn:  11124\n",
      "isbn13:  24\n",
      "language_code:  28\n",
      "  num_pages:  998\n",
      "ratings_count:  5295\n",
      "text_reviews_count:  1823\n",
      "publication_date:  3679\n",
      "publisher:  2291\n"
     ]
    }
   ],
   "source": [
    "for col in df.columns:\n",
    "    print(f\"{col}: \",len(df[col].unique()))"
   ]
  },
  {
   "cell_type": "markdown",
   "id": "6dfbafe2",
   "metadata": {},
   "source": [
    "There's one thing we can clearly observe here, that all three columns: bookId, isbn and isbn13 have about 11123 records which is the length of the dataset. Isbn numbers can be used to identify a book uniquely and the dataset confirms this.\n",
    "\n",
    "Furthermore, it is important for us to acknowledge that there are multiple authors that wrote a book. For instance, Expelled from Eden: A William T. Vollmann Reade was written by William T. Vollmann,Larry McCaffery,Michael and so on. "
   ]
  },
  {
   "cell_type": "markdown",
   "id": "e0cf74d7",
   "metadata": {},
   "source": [
    "We also notice that the title is less than 11123, which begs the question how there are not the same number of unique titles as there are bookIds."
   ]
  },
  {
   "cell_type": "code",
   "execution_count": 19,
   "id": "ba99ebe8",
   "metadata": {},
   "outputs": [
    {
     "data": {
      "text/html": [
       "<div>\n",
       "<style scoped>\n",
       "    .dataframe tbody tr th:only-of-type {\n",
       "        vertical-align: middle;\n",
       "    }\n",
       "\n",
       "    .dataframe tbody tr th {\n",
       "        vertical-align: top;\n",
       "    }\n",
       "\n",
       "    .dataframe thead th {\n",
       "        text-align: right;\n",
       "    }\n",
       "</style>\n",
       "<table border=\"1\" class=\"dataframe\">\n",
       "  <thead>\n",
       "    <tr style=\"text-align: right;\">\n",
       "      <th></th>\n",
       "      <th>bookID</th>\n",
       "      <th>title</th>\n",
       "      <th>authors</th>\n",
       "      <th>average_rating</th>\n",
       "      <th>isbn</th>\n",
       "      <th>isbn13</th>\n",
       "      <th>language_code</th>\n",
       "      <th>num_pages</th>\n",
       "      <th>ratings_count</th>\n",
       "      <th>text_reviews_count</th>\n",
       "      <th>publication_date</th>\n",
       "      <th>publisher</th>\n",
       "    </tr>\n",
       "  </thead>\n",
       "  <tbody>\n",
       "    <tr>\n",
       "      <th>10</th>\n",
       "      <td>16.0</td>\n",
       "      <td>The Hitchhiker's Guide to the Galaxy (Hitchhik...</td>\n",
       "      <td>Douglas Adams/Stephen Fry</td>\n",
       "      <td>4.22</td>\n",
       "      <td>739322206</td>\n",
       "      <td>9.780000e+12</td>\n",
       "      <td>eng</td>\n",
       "      <td>6.0</td>\n",
       "      <td>1266.0</td>\n",
       "      <td>253.0</td>\n",
       "      <td>3/23/2005</td>\n",
       "      <td>Random House Audio</td>\n",
       "    </tr>\n",
       "    <tr>\n",
       "      <th>24</th>\n",
       "      <td>35.0</td>\n",
       "      <td>The Lord of the Rings (The Lord of the Rings  ...</td>\n",
       "      <td>J.R.R. Tolkien/Alan  Lee</td>\n",
       "      <td>4.50</td>\n",
       "      <td>618260587</td>\n",
       "      <td>9.780000e+12</td>\n",
       "      <td>en-US</td>\n",
       "      <td>1216.0</td>\n",
       "      <td>1618.0</td>\n",
       "      <td>140.0</td>\n",
       "      <td>10/1/2002</td>\n",
       "      <td>Houghton Mifflin Harcourt</td>\n",
       "    </tr>\n",
       "    <tr>\n",
       "      <th>37</th>\n",
       "      <td>63.0</td>\n",
       "      <td>The Changeling</td>\n",
       "      <td>Kate Horsley</td>\n",
       "      <td>3.55</td>\n",
       "      <td>1590301943</td>\n",
       "      <td>9.780000e+12</td>\n",
       "      <td>eng</td>\n",
       "      <td>339.0</td>\n",
       "      <td>301.0</td>\n",
       "      <td>43.0</td>\n",
       "      <td>4/12/2005</td>\n",
       "      <td>Shambhala</td>\n",
       "    </tr>\n",
       "    <tr>\n",
       "      <th>40</th>\n",
       "      <td>68.0</td>\n",
       "      <td>The Known World</td>\n",
       "      <td>Edward P. Jones/Kevin R. Free</td>\n",
       "      <td>3.83</td>\n",
       "      <td>006076273X</td>\n",
       "      <td>9.780000e+12</td>\n",
       "      <td>en-US</td>\n",
       "      <td>14.0</td>\n",
       "      <td>55.0</td>\n",
       "      <td>12.0</td>\n",
       "      <td>6/15/2004</td>\n",
       "      <td>HarperAudio</td>\n",
       "    </tr>\n",
       "    <tr>\n",
       "      <th>41</th>\n",
       "      <td>69.0</td>\n",
       "      <td>The Known World</td>\n",
       "      <td>Edward P. Jones</td>\n",
       "      <td>3.83</td>\n",
       "      <td>60749911</td>\n",
       "      <td>9.780000e+12</td>\n",
       "      <td>eng</td>\n",
       "      <td>576.0</td>\n",
       "      <td>22.0</td>\n",
       "      <td>3.0</td>\n",
       "      <td>6/15/2004</td>\n",
       "      <td>Harper</td>\n",
       "    </tr>\n",
       "    <tr>\n",
       "      <th>...</th>\n",
       "      <td>...</td>\n",
       "      <td>...</td>\n",
       "      <td>...</td>\n",
       "      <td>...</td>\n",
       "      <td>...</td>\n",
       "      <td>...</td>\n",
       "      <td>...</td>\n",
       "      <td>...</td>\n",
       "      <td>...</td>\n",
       "      <td>...</td>\n",
       "      <td>...</td>\n",
       "      <td>...</td>\n",
       "    </tr>\n",
       "    <tr>\n",
       "      <th>11079</th>\n",
       "      <td>45463.0</td>\n",
       "      <td>Encuentro en el Ártico (Artemis Fowl  #2)</td>\n",
       "      <td>Eoin Colfer/Ana Alcaina Pérez</td>\n",
       "      <td>3.95</td>\n",
       "      <td>307343103</td>\n",
       "      <td>9.780000e+12</td>\n",
       "      <td>spa</td>\n",
       "      <td>320.0</td>\n",
       "      <td>15.0</td>\n",
       "      <td>3.0</td>\n",
       "      <td>7/5/2005</td>\n",
       "      <td>Montena</td>\n",
       "    </tr>\n",
       "    <tr>\n",
       "      <th>11080</th>\n",
       "      <td>45465.0</td>\n",
       "      <td>Artemis Fowl (Artemis Fowl  #1)</td>\n",
       "      <td>Eoin Colfer/Nathaniel Parker</td>\n",
       "      <td>3.84</td>\n",
       "      <td>1400085918</td>\n",
       "      <td>9.780000e+12</td>\n",
       "      <td>eng</td>\n",
       "      <td>6.0</td>\n",
       "      <td>55.0</td>\n",
       "      <td>14.0</td>\n",
       "      <td>4/6/2004</td>\n",
       "      <td>Listening Library</td>\n",
       "    </tr>\n",
       "    <tr>\n",
       "      <th>11082</th>\n",
       "      <td>45479.0</td>\n",
       "      <td>The Subtle Knife (His Dark Materials  #2)</td>\n",
       "      <td>Philip Pullman/Ian Beck</td>\n",
       "      <td>4.13</td>\n",
       "      <td>375846727</td>\n",
       "      <td>9.780000e+12</td>\n",
       "      <td>eng</td>\n",
       "      <td>326.0</td>\n",
       "      <td>677.0</td>\n",
       "      <td>77.0</td>\n",
       "      <td>9/1/2007</td>\n",
       "      <td>Alfred A. Knopf Books for Young Readers</td>\n",
       "    </tr>\n",
       "    <tr>\n",
       "      <th>11084</th>\n",
       "      <td>45485.0</td>\n",
       "      <td>The Subtle Knife (His Dark Materials  #2)</td>\n",
       "      <td>Philip Pullman</td>\n",
       "      <td>4.13</td>\n",
       "      <td>807210471</td>\n",
       "      <td>9.780000e+12</td>\n",
       "      <td>eng</td>\n",
       "      <td>8.0</td>\n",
       "      <td>39.0</td>\n",
       "      <td>8.0</td>\n",
       "      <td>1/28/2000</td>\n",
       "      <td>Listening Library</td>\n",
       "    </tr>\n",
       "    <tr>\n",
       "      <th>11100</th>\n",
       "      <td>45536.0</td>\n",
       "      <td>On the Road</td>\n",
       "      <td>Jack Kerouac/Ann Charters</td>\n",
       "      <td>3.63</td>\n",
       "      <td>142437255</td>\n",
       "      <td>9.780000e+12</td>\n",
       "      <td>en-US</td>\n",
       "      <td>307.0</td>\n",
       "      <td>3271.0</td>\n",
       "      <td>342.0</td>\n",
       "      <td>1/3/2006</td>\n",
       "      <td>Penguin Classics</td>\n",
       "    </tr>\n",
       "  </tbody>\n",
       "</table>\n",
       "<p>778 rows × 12 columns</p>\n",
       "</div>"
      ],
      "text/plain": [
       "        bookID                                              title  \\\n",
       "10        16.0  The Hitchhiker's Guide to the Galaxy (Hitchhik...   \n",
       "24        35.0  The Lord of the Rings (The Lord of the Rings  ...   \n",
       "37        63.0                                     The Changeling   \n",
       "40        68.0                                    The Known World   \n",
       "41        69.0                                    The Known World   \n",
       "...        ...                                                ...   \n",
       "11079  45463.0          Encuentro en el Ártico (Artemis Fowl  #2)   \n",
       "11080  45465.0                    Artemis Fowl (Artemis Fowl  #1)   \n",
       "11082  45479.0          The Subtle Knife (His Dark Materials  #2)   \n",
       "11084  45485.0          The Subtle Knife (His Dark Materials  #2)   \n",
       "11100  45536.0                                        On the Road   \n",
       "\n",
       "                             authors  average_rating        isbn  \\\n",
       "10         Douglas Adams/Stephen Fry            4.22   739322206   \n",
       "24          J.R.R. Tolkien/Alan  Lee            4.50   618260587   \n",
       "37                      Kate Horsley            3.55  1590301943   \n",
       "40     Edward P. Jones/Kevin R. Free            3.83  006076273X   \n",
       "41                   Edward P. Jones            3.83    60749911   \n",
       "...                              ...             ...         ...   \n",
       "11079  Eoin Colfer/Ana Alcaina Pérez            3.95   307343103   \n",
       "11080   Eoin Colfer/Nathaniel Parker            3.84  1400085918   \n",
       "11082        Philip Pullman/Ian Beck            4.13   375846727   \n",
       "11084                 Philip Pullman            4.13   807210471   \n",
       "11100      Jack Kerouac/Ann Charters            3.63   142437255   \n",
       "\n",
       "             isbn13 language_code    num_pages  ratings_count  \\\n",
       "10     9.780000e+12           eng          6.0         1266.0   \n",
       "24     9.780000e+12         en-US       1216.0         1618.0   \n",
       "37     9.780000e+12           eng        339.0          301.0   \n",
       "40     9.780000e+12         en-US         14.0           55.0   \n",
       "41     9.780000e+12           eng        576.0           22.0   \n",
       "...             ...           ...          ...            ...   \n",
       "11079  9.780000e+12           spa        320.0           15.0   \n",
       "11080  9.780000e+12           eng          6.0           55.0   \n",
       "11082  9.780000e+12           eng        326.0          677.0   \n",
       "11084  9.780000e+12           eng          8.0           39.0   \n",
       "11100  9.780000e+12         en-US        307.0         3271.0   \n",
       "\n",
       "       text_reviews_count publication_date  \\\n",
       "10                  253.0        3/23/2005   \n",
       "24                  140.0        10/1/2002   \n",
       "37                   43.0        4/12/2005   \n",
       "40                   12.0        6/15/2004   \n",
       "41                    3.0        6/15/2004   \n",
       "...                   ...              ...   \n",
       "11079                 3.0         7/5/2005   \n",
       "11080                14.0         4/6/2004   \n",
       "11082                77.0         9/1/2007   \n",
       "11084                 8.0        1/28/2000   \n",
       "11100               342.0         1/3/2006   \n",
       "\n",
       "                                     publisher  \n",
       "10                          Random House Audio  \n",
       "24                   Houghton Mifflin Harcourt  \n",
       "37                                   Shambhala  \n",
       "40                                 HarperAudio  \n",
       "41                                      Harper  \n",
       "...                                        ...  \n",
       "11079                                  Montena  \n",
       "11080                        Listening Library  \n",
       "11082  Alfred A. Knopf Books for Young Readers  \n",
       "11084                        Listening Library  \n",
       "11100                         Penguin Classics  \n",
       "\n",
       "[778 rows x 12 columns]"
      ]
     },
     "execution_count": 19,
     "metadata": {},
     "output_type": "execute_result"
    }
   ],
   "source": [
    "df[df['title'].duplicated()]"
   ]
  },
  {
   "cell_type": "code",
   "execution_count": 20,
   "id": "cd8dadf3",
   "metadata": {},
   "outputs": [
    {
     "data": {
      "text/html": [
       "<div>\n",
       "<style scoped>\n",
       "    .dataframe tbody tr th:only-of-type {\n",
       "        vertical-align: middle;\n",
       "    }\n",
       "\n",
       "    .dataframe tbody tr th {\n",
       "        vertical-align: top;\n",
       "    }\n",
       "\n",
       "    .dataframe thead th {\n",
       "        text-align: right;\n",
       "    }\n",
       "</style>\n",
       "<table border=\"1\" class=\"dataframe\">\n",
       "  <thead>\n",
       "    <tr style=\"text-align: right;\">\n",
       "      <th></th>\n",
       "      <th>bookID</th>\n",
       "      <th>title</th>\n",
       "      <th>authors</th>\n",
       "      <th>average_rating</th>\n",
       "      <th>isbn</th>\n",
       "      <th>isbn13</th>\n",
       "      <th>language_code</th>\n",
       "      <th>num_pages</th>\n",
       "      <th>ratings_count</th>\n",
       "      <th>text_reviews_count</th>\n",
       "      <th>publication_date</th>\n",
       "      <th>publisher</th>\n",
       "    </tr>\n",
       "  </thead>\n",
       "  <tbody>\n",
       "    <tr>\n",
       "      <th>39</th>\n",
       "      <td>67.0</td>\n",
       "      <td>The Known World</td>\n",
       "      <td>Edward P. Jones</td>\n",
       "      <td>3.83</td>\n",
       "      <td>61159174</td>\n",
       "      <td>9.780000e+12</td>\n",
       "      <td>eng</td>\n",
       "      <td>388.0</td>\n",
       "      <td>29686.0</td>\n",
       "      <td>2626.0</td>\n",
       "      <td>8/29/2006</td>\n",
       "      <td>Amistad</td>\n",
       "    </tr>\n",
       "    <tr>\n",
       "      <th>40</th>\n",
       "      <td>68.0</td>\n",
       "      <td>The Known World</td>\n",
       "      <td>Edward P. Jones/Kevin R. Free</td>\n",
       "      <td>3.83</td>\n",
       "      <td>006076273X</td>\n",
       "      <td>9.780000e+12</td>\n",
       "      <td>en-US</td>\n",
       "      <td>14.0</td>\n",
       "      <td>55.0</td>\n",
       "      <td>12.0</td>\n",
       "      <td>6/15/2004</td>\n",
       "      <td>HarperAudio</td>\n",
       "    </tr>\n",
       "    <tr>\n",
       "      <th>41</th>\n",
       "      <td>69.0</td>\n",
       "      <td>The Known World</td>\n",
       "      <td>Edward P. Jones</td>\n",
       "      <td>3.83</td>\n",
       "      <td>60749911</td>\n",
       "      <td>9.780000e+12</td>\n",
       "      <td>eng</td>\n",
       "      <td>576.0</td>\n",
       "      <td>22.0</td>\n",
       "      <td>3.0</td>\n",
       "      <td>6/15/2004</td>\n",
       "      <td>Harper</td>\n",
       "    </tr>\n",
       "    <tr>\n",
       "      <th>3193</th>\n",
       "      <td>11684.0</td>\n",
       "      <td>The Known World</td>\n",
       "      <td>Edward P. Jones</td>\n",
       "      <td>3.83</td>\n",
       "      <td>7195303</td>\n",
       "      <td>9.780000e+12</td>\n",
       "      <td>eng</td>\n",
       "      <td>388.0</td>\n",
       "      <td>449.0</td>\n",
       "      <td>83.0</td>\n",
       "      <td>10/1/2004</td>\n",
       "      <td>Harper Perennial</td>\n",
       "    </tr>\n",
       "  </tbody>\n",
       "</table>\n",
       "</div>"
      ],
      "text/plain": [
       "       bookID            title                        authors  average_rating  \\\n",
       "39       67.0  The Known World                Edward P. Jones            3.83   \n",
       "40       68.0  The Known World  Edward P. Jones/Kevin R. Free            3.83   \n",
       "41       69.0  The Known World                Edward P. Jones            3.83   \n",
       "3193  11684.0  The Known World                Edward P. Jones            3.83   \n",
       "\n",
       "            isbn        isbn13 language_code    num_pages  ratings_count  \\\n",
       "39      61159174  9.780000e+12           eng        388.0        29686.0   \n",
       "40    006076273X  9.780000e+12         en-US         14.0           55.0   \n",
       "41      60749911  9.780000e+12           eng        576.0           22.0   \n",
       "3193     7195303  9.780000e+12           eng        388.0          449.0   \n",
       "\n",
       "      text_reviews_count publication_date         publisher  \n",
       "39                2626.0        8/29/2006           Amistad  \n",
       "40                  12.0        6/15/2004       HarperAudio  \n",
       "41                   3.0        6/15/2004            Harper  \n",
       "3193                83.0        10/1/2004  Harper Perennial  "
      ]
     },
     "execution_count": 20,
     "metadata": {},
     "output_type": "execute_result"
    }
   ],
   "source": [
    "df[df['title'] == 'The Known World']"
   ]
  },
  {
   "cell_type": "code",
   "execution_count": 21,
   "id": "b8f9c5d6",
   "metadata": {},
   "outputs": [
    {
     "data": {
      "text/html": [
       "<div>\n",
       "<style scoped>\n",
       "    .dataframe tbody tr th:only-of-type {\n",
       "        vertical-align: middle;\n",
       "    }\n",
       "\n",
       "    .dataframe tbody tr th {\n",
       "        vertical-align: top;\n",
       "    }\n",
       "\n",
       "    .dataframe thead th {\n",
       "        text-align: right;\n",
       "    }\n",
       "</style>\n",
       "<table border=\"1\" class=\"dataframe\">\n",
       "  <thead>\n",
       "    <tr style=\"text-align: right;\">\n",
       "      <th></th>\n",
       "      <th>bookID</th>\n",
       "      <th>title</th>\n",
       "      <th>authors</th>\n",
       "      <th>average_rating</th>\n",
       "      <th>isbn</th>\n",
       "      <th>isbn13</th>\n",
       "      <th>language_code</th>\n",
       "      <th>num_pages</th>\n",
       "      <th>ratings_count</th>\n",
       "      <th>text_reviews_count</th>\n",
       "      <th>publication_date</th>\n",
       "      <th>publisher</th>\n",
       "    </tr>\n",
       "  </thead>\n",
       "  <tbody>\n",
       "    <tr>\n",
       "      <th>36</th>\n",
       "      <td>61.0</td>\n",
       "      <td>The Changeling</td>\n",
       "      <td>Zilpha Keatley Snyder</td>\n",
       "      <td>4.17</td>\n",
       "      <td>595321801</td>\n",
       "      <td>9.780000e+12</td>\n",
       "      <td>eng</td>\n",
       "      <td>228.0</td>\n",
       "      <td>1176.0</td>\n",
       "      <td>96.0</td>\n",
       "      <td>6/8/2004</td>\n",
       "      <td>iUniverse</td>\n",
       "    </tr>\n",
       "    <tr>\n",
       "      <th>37</th>\n",
       "      <td>63.0</td>\n",
       "      <td>The Changeling</td>\n",
       "      <td>Kate Horsley</td>\n",
       "      <td>3.55</td>\n",
       "      <td>1590301943</td>\n",
       "      <td>9.780000e+12</td>\n",
       "      <td>eng</td>\n",
       "      <td>339.0</td>\n",
       "      <td>301.0</td>\n",
       "      <td>43.0</td>\n",
       "      <td>4/12/2005</td>\n",
       "      <td>Shambhala</td>\n",
       "    </tr>\n",
       "  </tbody>\n",
       "</table>\n",
       "</div>"
      ],
      "text/plain": [
       "    bookID           title                authors  average_rating        isbn  \\\n",
       "36    61.0  The Changeling  Zilpha Keatley Snyder            4.17   595321801   \n",
       "37    63.0  The Changeling           Kate Horsley            3.55  1590301943   \n",
       "\n",
       "          isbn13 language_code    num_pages  ratings_count  \\\n",
       "36  9.780000e+12           eng        228.0         1176.0   \n",
       "37  9.780000e+12           eng        339.0          301.0   \n",
       "\n",
       "    text_reviews_count publication_date  publisher  \n",
       "36                96.0         6/8/2004  iUniverse  \n",
       "37                43.0        4/12/2005  Shambhala  "
      ]
     },
     "execution_count": 21,
     "metadata": {},
     "output_type": "execute_result"
    }
   ],
   "source": [
    "df[df['title'] == 'The Changeling']"
   ]
  },
  {
   "cell_type": "markdown",
   "id": "d68ba54b",
   "metadata": {},
   "source": [
    "These examples show that there are about 778 records of similar title but belonging to different publishers, different publication date or different language code. It can also be seen that the ISBN13 is almost similar for these records, with only the ISBN number being unique across books. While we could use the ISBN number to uniquely identify a book, it seems like the ISBN number is registered as a string, not a number. Therefore, we can rely on the bookId being the unique identifier of a book. \n",
    "\n"
   ]
  },
  {
   "cell_type": "markdown",
   "id": "4453c36c",
   "metadata": {},
   "source": [
    "## Entity Relation Modeling & Database Normalization"
   ]
  },
  {
   "cell_type": "code",
   "execution_count": 22,
   "id": "0b5154cc",
   "metadata": {},
   "outputs": [
    {
     "data": {
      "text/plain": [
       "Index(['bookID', 'title', 'authors', 'average_rating', 'isbn', 'isbn13',\n",
       "       'language_code', '  num_pages', 'ratings_count', 'text_reviews_count',\n",
       "       'publication_date', 'publisher'],\n",
       "      dtype='object')"
      ]
     },
     "execution_count": 22,
     "metadata": {},
     "output_type": "execute_result"
    }
   ],
   "source": [
    "df.columns"
   ]
  },
  {
   "cell_type": "markdown",
   "id": "340f6f50",
   "metadata": {},
   "source": [
    "In order to understand how we can craete an ER model, we can start by examining how each column is dependant on the bookId\n",
    "\n",
    "BooksData('bookID', 'title', 'authors', 'average_rating', 'isbn', 'isbn13','language_code', '  num_pages', 'ratings_count', 'text_reviews_count','publication_date', 'publisher')\n",
    "\n",
    "We can safely state that columns 'title', 'authors', 'average_rating', 'isbn', 'isbn13','language_code', ' num_pages', 'ratings_count', 'text_reviews_count','publication_date', 'publisher' are dependant on bookID as each of these columns uniquely identify with a book. \n",
    "\n",
    "However, since there are multiple authors in the authors column we can conclude there is a many to many relationship between books and authors.\n",
    "- A book can be written by multiple authors\n",
    "- An author can write multiple books\n",
    "\n",
    "Therefore, we can split the book's entity and create a author entity: \\\n",
    "**Books**('bookID', 'title', 'average_rating', 'isbn', 'isbn13','language_code', '  num_pages', 'ratings_count', 'text_reviews_count','publication_date', 'publisher') \\\n",
    "**Author**( AuthorID, AuthorName) \\\n",
    "And then we can create a BooksAuthor Table to capture the Books-Author relationship as follows: \\\n",
    "**BooksAuthor**( AuthorID, BookID)"
   ]
  },
  {
   "cell_type": "markdown",
   "id": "3fbce3d9",
   "metadata": {},
   "source": [
    "In the Books Table, the publisher column is a string, and there were 2291 unique publishers. Assuming that publishers are the one's who publish a book, we can say that the relationship between Books and Publisher is a One to Many Relationship which can be captured as follows:\n",
    "- One book can have only one publisher\n",
    "     - This assumption is captured from the data wherein we saw that for different titles there were different publisher, even though they could just be one publisher.\n",
    "     - For instance, HarperAudio, Harper and Harper Perennial could be the same publisher but for the sake of simplicity, we'll assume they are different entities based on the fact that 3 different books(different bookID) were published by them despite having the same title:The Known World\n",
    "- Publisher can publish 1 or many books\n",
    "\n",
    "Therefore, we can create a Publisher Entity/Table to store a publisherID and the name of the publisher, and use the publisherID to reference the Books table, as follows: \\\n",
    "**Books**('bookID', 'title', 'average_rating', 'isbn', 'isbn13','language_code', '  num_pages', 'ratings_count', 'text_reviews_count','publication_date', 'PublisherId') \\\n",
    "**Publisher**( PublisherId, PublisherName)\n",
    "\n",
    "This has the benefit of preserving referential integrity. For instance if a book published a publisher that only published that particular book in the entire dataset gets deleted, we can still have the information on the publisher"
   ]
  },
  {
   "cell_type": "markdown",
   "id": "bae82d62",
   "metadata": {},
   "source": [
    "Furthermore, we can also create a new Table for the language code since there are only 27-28 languages in the dataset. This gets repeated in the database multiple times and we can save some space in the database by not repeating these strings for 11124 times. We can create a new table Language and use the languageID in that table to reference a languageID, instead of language_code, in the books table: \\\n",
    "**Language**( LanguageId, Language) \\\n",
    "**Books**( bookID, title, average_rating, isbn, isbn13, LanguageId, num_pages, ratings_count, text_reviews_count, publication_date, PublisherId)"
   ]
  },
  {
   "cell_type": "markdown",
   "id": "17c047b2",
   "metadata": {},
   "source": [
    "These adjustments lead us to our final database design.\n",
    "\n",
    "**Books**( bookID, title, average_rating, isbn, isbn13, LanguageId, num_pages, ratings_count, text_reviews_count, publication_date, PublisherId) \\\n",
    "**Author**( AuthorID, AuthorName) \\\n",
    "**BooksAuthor**( AuthorID, BookID) \\\n",
    "**Publisher**( PublisherId, PublisherName) \\\n",
    "**Language**( LanguageId, Language) \n",
    "\n"
   ]
  },
  {
   "cell_type": "markdown",
   "id": "a7fee30b",
   "metadata": {},
   "source": [
    "## Database Connection/ Creation"
   ]
  },
  {
   "cell_type": "markdown",
   "id": "c4165520",
   "metadata": {},
   "source": [
    "Before we proceed, I noticed that there were 4 rows of data with null value which could break our data import. In order to deal with this, we'll completely remove these rows for this project"
   ]
  },
  {
   "cell_type": "code",
   "execution_count": 23,
   "id": "c667ed08",
   "metadata": {},
   "outputs": [
    {
     "data": {
      "text/html": [
       "<div>\n",
       "<style scoped>\n",
       "    .dataframe tbody tr th:only-of-type {\n",
       "        vertical-align: middle;\n",
       "    }\n",
       "\n",
       "    .dataframe tbody tr th {\n",
       "        vertical-align: top;\n",
       "    }\n",
       "\n",
       "    .dataframe thead th {\n",
       "        text-align: right;\n",
       "    }\n",
       "</style>\n",
       "<table border=\"1\" class=\"dataframe\">\n",
       "  <thead>\n",
       "    <tr style=\"text-align: right;\">\n",
       "      <th></th>\n",
       "      <th>bookID</th>\n",
       "      <th>title</th>\n",
       "      <th>authors</th>\n",
       "      <th>average_rating</th>\n",
       "      <th>isbn</th>\n",
       "      <th>isbn13</th>\n",
       "      <th>language_code</th>\n",
       "      <th>num_pages</th>\n",
       "      <th>ratings_count</th>\n",
       "      <th>text_reviews_count</th>\n",
       "      <th>publication_date</th>\n",
       "      <th>publisher</th>\n",
       "    </tr>\n",
       "  </thead>\n",
       "  <tbody>\n",
       "    <tr>\n",
       "      <th>3348</th>\n",
       "      <td>NaN</td>\n",
       "      <td>NaN</td>\n",
       "      <td>NaN</td>\n",
       "      <td>NaN</td>\n",
       "      <td>NaN</td>\n",
       "      <td>NaN</td>\n",
       "      <td>NaN</td>\n",
       "      <td>NaN</td>\n",
       "      <td>NaN</td>\n",
       "      <td>NaN</td>\n",
       "      <td>NaN</td>\n",
       "      <td>NaN</td>\n",
       "    </tr>\n",
       "    <tr>\n",
       "      <th>4702</th>\n",
       "      <td>NaN</td>\n",
       "      <td>NaN</td>\n",
       "      <td>NaN</td>\n",
       "      <td>NaN</td>\n",
       "      <td>NaN</td>\n",
       "      <td>NaN</td>\n",
       "      <td>NaN</td>\n",
       "      <td>NaN</td>\n",
       "      <td>NaN</td>\n",
       "      <td>NaN</td>\n",
       "      <td>NaN</td>\n",
       "      <td>NaN</td>\n",
       "    </tr>\n",
       "    <tr>\n",
       "      <th>5877</th>\n",
       "      <td>NaN</td>\n",
       "      <td>NaN</td>\n",
       "      <td>NaN</td>\n",
       "      <td>NaN</td>\n",
       "      <td>NaN</td>\n",
       "      <td>NaN</td>\n",
       "      <td>NaN</td>\n",
       "      <td>NaN</td>\n",
       "      <td>NaN</td>\n",
       "      <td>NaN</td>\n",
       "      <td>NaN</td>\n",
       "      <td>NaN</td>\n",
       "    </tr>\n",
       "    <tr>\n",
       "      <th>8979</th>\n",
       "      <td>NaN</td>\n",
       "      <td>NaN</td>\n",
       "      <td>NaN</td>\n",
       "      <td>NaN</td>\n",
       "      <td>NaN</td>\n",
       "      <td>NaN</td>\n",
       "      <td>NaN</td>\n",
       "      <td>NaN</td>\n",
       "      <td>NaN</td>\n",
       "      <td>NaN</td>\n",
       "      <td>NaN</td>\n",
       "      <td>NaN</td>\n",
       "    </tr>\n",
       "  </tbody>\n",
       "</table>\n",
       "</div>"
      ],
      "text/plain": [
       "      bookID title authors  average_rating isbn  isbn13 language_code  \\\n",
       "3348     NaN   NaN     NaN             NaN  NaN     NaN           NaN   \n",
       "4702     NaN   NaN     NaN             NaN  NaN     NaN           NaN   \n",
       "5877     NaN   NaN     NaN             NaN  NaN     NaN           NaN   \n",
       "8979     NaN   NaN     NaN             NaN  NaN     NaN           NaN   \n",
       "\n",
       "        num_pages  ratings_count  text_reviews_count publication_date  \\\n",
       "3348          NaN            NaN                 NaN              NaN   \n",
       "4702          NaN            NaN                 NaN              NaN   \n",
       "5877          NaN            NaN                 NaN              NaN   \n",
       "8979          NaN            NaN                 NaN              NaN   \n",
       "\n",
       "     publisher  \n",
       "3348       NaN  \n",
       "4702       NaN  \n",
       "5877       NaN  \n",
       "8979       NaN  "
      ]
     },
     "execution_count": 23,
     "metadata": {},
     "output_type": "execute_result"
    }
   ],
   "source": [
    "df[df['authors'].isnull()]"
   ]
  },
  {
   "cell_type": "code",
   "execution_count": 24,
   "id": "b49aeb69",
   "metadata": {},
   "outputs": [],
   "source": [
    "df.dropna(inplace=True)"
   ]
  },
  {
   "cell_type": "code",
   "execution_count": 25,
   "id": "c6a7d24f",
   "metadata": {},
   "outputs": [
    {
     "data": {
      "text/html": [
       "<div>\n",
       "<style scoped>\n",
       "    .dataframe tbody tr th:only-of-type {\n",
       "        vertical-align: middle;\n",
       "    }\n",
       "\n",
       "    .dataframe tbody tr th {\n",
       "        vertical-align: top;\n",
       "    }\n",
       "\n",
       "    .dataframe thead th {\n",
       "        text-align: right;\n",
       "    }\n",
       "</style>\n",
       "<table border=\"1\" class=\"dataframe\">\n",
       "  <thead>\n",
       "    <tr style=\"text-align: right;\">\n",
       "      <th></th>\n",
       "      <th>bookID</th>\n",
       "      <th>title</th>\n",
       "      <th>authors</th>\n",
       "      <th>average_rating</th>\n",
       "      <th>isbn</th>\n",
       "      <th>isbn13</th>\n",
       "      <th>language_code</th>\n",
       "      <th>num_pages</th>\n",
       "      <th>ratings_count</th>\n",
       "      <th>text_reviews_count</th>\n",
       "      <th>publication_date</th>\n",
       "      <th>publisher</th>\n",
       "    </tr>\n",
       "  </thead>\n",
       "  <tbody>\n",
       "  </tbody>\n",
       "</table>\n",
       "</div>"
      ],
      "text/plain": [
       "Empty DataFrame\n",
       "Columns: [bookID, title, authors, average_rating, isbn, isbn13, language_code,   num_pages, ratings_count, text_reviews_count, publication_date, publisher]\n",
       "Index: []"
      ]
     },
     "execution_count": 25,
     "metadata": {},
     "output_type": "execute_result"
    }
   ],
   "source": [
    "df[df['authors'].isnull()]"
   ]
  },
  {
   "cell_type": "code",
   "execution_count": 1,
   "id": "af46c04e",
   "metadata": {},
   "outputs": [],
   "source": [
    "import psycopg2\n",
    "import json"
   ]
  },
  {
   "cell_type": "code",
   "execution_count": 2,
   "id": "8f00d25f",
   "metadata": {},
   "outputs": [],
   "source": [
    "with open('db_cred.json','r') as j:\n",
    "    cred = json.load(j)"
   ]
  },
  {
   "cell_type": "code",
   "execution_count": 3,
   "id": "49bdecbd",
   "metadata": {},
   "outputs": [
    {
     "name": "stdout",
     "output_type": "stream",
     "text": [
      "Connecting to the PostgreSQL database...\n"
     ]
    }
   ],
   "source": [
    "print('Connecting to the PostgreSQL database...')\n",
    "conn = psycopg2.connect(\n",
    "    host=cred[\"host\"],\n",
    "    port=cred['port'],\n",
    "    database=cred[\"database\"],\n",
    "    user=cred[\"user\"],\n",
    "    password=cred[\"password\"])"
   ]
  },
  {
   "cell_type": "code",
   "execution_count": 4,
   "id": "ad2e0cb5",
   "metadata": {},
   "outputs": [
    {
     "name": "stdout",
     "output_type": "stream",
     "text": [
      "PostgreSQL database version:\n",
      "('PostgreSQL 15.1 on aarch64-apple-darwin21.6.0, compiled by Apple clang version 14.0.0 (clang-1400.0.29.102), 64-bit',)\n"
     ]
    }
   ],
   "source": [
    "# create a cursor\n",
    "cur = conn.cursor()\n",
    "# execute a statement\n",
    "print('PostgreSQL database version:')\n",
    "cur.execute('SELECT version()')\n",
    "# display the PostgreSQL database server version\n",
    "db_version = cur.fetchone()\n",
    "print(db_version)"
   ]
  },
  {
   "cell_type": "markdown",
   "id": "682c3b12",
   "metadata": {},
   "source": [
    "### Create Authors, Publishers and Language Table"
   ]
  },
  {
   "cell_type": "code",
   "execution_count": 30,
   "id": "a5712481",
   "metadata": {},
   "outputs": [],
   "source": [
    "createCmdAuthor = \"\"\" CREATE TABLE IF NOT EXISTS authors (\n",
    "                author_id SERIAL PRIMARY KEY,\n",
    "                author_name VARCHAR(255) NOT NULL\n",
    "                )\n",
    "            \"\"\"\n",
    "createCmdPublisher = \"\"\" CREATE TABLE IF NOT EXISTS publishers (\n",
    "                publisher_id SERIAL PRIMARY KEY,\n",
    "                publisher_name VARCHAR(255) NOT NULL\n",
    "                )\n",
    "            \"\"\"\n",
    "createCmdLanguage = \"\"\" CREATE TABLE IF NOT EXISTS language (\n",
    "                language_id SERIAL PRIMARY KEY,\n",
    "                language_code VARCHAR(30) NOT NULL\n",
    "                )\n",
    "            \"\"\"\n",
    "\n",
    "cur.execute(createCmdAuthor)\n",
    "cur.execute(createCmdPublisher)\n",
    "cur.execute(createCmdLanguage)\n",
    "conn.commit()"
   ]
  },
  {
   "cell_type": "markdown",
   "id": "25fd51b9",
   "metadata": {},
   "source": [
    "### Populate the Authors Table"
   ]
  },
  {
   "cell_type": "code",
   "execution_count": 31,
   "id": "03b5b905",
   "metadata": {},
   "outputs": [
    {
     "data": {
      "text/plain": [
       "6639"
      ]
     },
     "execution_count": 31,
     "metadata": {},
     "output_type": "execute_result"
    }
   ],
   "source": [
    "authorslist = df['authors'].unique()\n",
    "len(authorslist)"
   ]
  },
  {
   "cell_type": "code",
   "execution_count": 32,
   "id": "430b5536",
   "metadata": {},
   "outputs": [],
   "source": [
    "authorslist_final = set()\n",
    "for author in authorslist:\n",
    "        auth = author.split(\"/\")\n",
    "        for a in auth:\n",
    "            authorslist_final.add(a)"
   ]
  },
  {
   "cell_type": "code",
   "execution_count": 33,
   "id": "40af351b",
   "metadata": {},
   "outputs": [
    {
     "data": {
      "text/plain": [
       "9231"
      ]
     },
     "execution_count": 33,
     "metadata": {},
     "output_type": "execute_result"
    }
   ],
   "source": [
    "len(authorslist_final)"
   ]
  },
  {
   "cell_type": "code",
   "execution_count": 34,
   "id": "e83e4145",
   "metadata": {},
   "outputs": [],
   "source": [
    "# create a cursor\n",
    "cur = conn.cursor()"
   ]
  },
  {
   "cell_type": "code",
   "execution_count": 35,
   "id": "10a123e2",
   "metadata": {},
   "outputs": [],
   "source": [
    "errorsAuthors = []\n",
    "for i, authorName in enumerate(authorslist_final):\n",
    "    #print(i+1, authorName)\n",
    "    try:\n",
    "        cur.execute(f\"INSERT into authors VALUES({i+1}, '{authorName}')\")\n",
    "        conn.commit()\n",
    "    except:\n",
    "        errorsAuthors.append((i+1,authorName))\n",
    "        #need to re-create connection\n",
    "        conn = psycopg2.connect(\n",
    "            host=cred[\"host\"],\n",
    "            port=cred['port'],\n",
    "            database=cred[\"database\"],\n",
    "            user=cred[\"user\"],\n",
    "            password=cred[\"password\"])\n",
    "        cur = conn.cursor()\n",
    "        continue\n"
   ]
  },
  {
   "cell_type": "code",
   "execution_count": 36,
   "id": "06b8e747",
   "metadata": {},
   "outputs": [
    {
     "data": {
      "text/plain": [
       "81"
      ]
     },
     "execution_count": 36,
     "metadata": {},
     "output_type": "execute_result"
    }
   ],
   "source": [
    "len(errorsAuthors)"
   ]
  },
  {
   "cell_type": "code",
   "execution_count": 37,
   "id": "e4580d88",
   "metadata": {},
   "outputs": [
    {
     "data": {
      "text/plain": [
       "[(38, \"Fitz-James O'Brien\"),\n",
       " (50, \"Michael D'Orso\"),\n",
       " (176, \"Barron's\"),\n",
       " (598, \"Robert C. O'Brien\"),\n",
       " (621, \"Kevin O'Malley\")]"
      ]
     },
     "execution_count": 37,
     "metadata": {},
     "output_type": "execute_result"
    }
   ],
   "source": [
    "errorsAuthors[:5]"
   ]
  },
  {
   "cell_type": "markdown",
   "id": "f9afacfa",
   "metadata": {},
   "source": [
    "There were about 81 authors where we weren't able to insert due to the way the name is typed leading to parsing issues. For instance \"INSERT into authors VALUES(16, 'Michael D'Orso')\" throws an error because the code is being executed the quote ' after D is being interpreted as the end of the quote that started before M. In order to avoid this, and for the scope of this project, we can parse the string Michael D'Orso as Michael DOrso and consider it acceptable"
   ]
  },
  {
   "cell_type": "code",
   "execution_count": 38,
   "id": "7f57376f",
   "metadata": {},
   "outputs": [
    {
     "name": "stdout",
     "output_type": "stream",
     "text": [
      "Michael DOrso\n"
     ]
    }
   ],
   "source": [
    "def removeQuote(s):\n",
    "    s = s.replace(\"'\", \"\")     \n",
    "    return s\n",
    "\n",
    "s = \"Michael D'Orso\"\n",
    "print(removeQuote(s))"
   ]
  },
  {
   "cell_type": "code",
   "execution_count": 39,
   "id": "8e2f8e32",
   "metadata": {},
   "outputs": [],
   "source": [
    "errorsAuthors2 = []\n",
    "for entry in errorsAuthors:\n",
    "    #print(i+1, authorName)\n",
    "    try:\n",
    "        cur.execute(f\"INSERT into authors VALUES({entry[0]}, '{ removeQuote(entry[1]) }')\")\n",
    "        conn.commit()\n",
    "    except:\n",
    "        errorsAuthors2.append((entry[0],entry[1]))\n",
    "        #need to re-create connection\n",
    "        conn = psycopg2.connect(\n",
    "            host=cred[\"host\"],\n",
    "            port=cred['port'],\n",
    "            database=cred[\"database\"],\n",
    "            user=cred[\"user\"],\n",
    "            password=cred[\"password\"])\n",
    "        cur = conn.cursor()\n",
    "        continue\n",
    "    "
   ]
  },
  {
   "cell_type": "code",
   "execution_count": 40,
   "id": "9f782b89",
   "metadata": {},
   "outputs": [
    {
     "data": {
      "text/plain": [
       "0"
      ]
     },
     "execution_count": 40,
     "metadata": {},
     "output_type": "execute_result"
    }
   ],
   "source": [
    "len(errorsAuthors2)"
   ]
  },
  {
   "cell_type": "markdown",
   "id": "978f60c4",
   "metadata": {},
   "source": [
    "### Populate the Language Table"
   ]
  },
  {
   "cell_type": "code",
   "execution_count": 44,
   "id": "747cf6fc",
   "metadata": {},
   "outputs": [],
   "source": [
    "languages = df['language_code'].unique()"
   ]
  },
  {
   "cell_type": "code",
   "execution_count": 45,
   "id": "b586479d",
   "metadata": {},
   "outputs": [],
   "source": [
    "errorsLang = []\n",
    "for i, langCode in enumerate(languages):\n",
    "    #print(i+1, authorName)\n",
    "    try:\n",
    "        cur.execute(f\"INSERT into language VALUES({i+1}, '{langCode}')\")\n",
    "        conn.commit()\n",
    "    except:\n",
    "        errorsLang.append((i+1,langCode))\n",
    "        #need to re-create connection\n",
    "        conn = psycopg2.connect(\n",
    "            host=cred[\"host\"],\n",
    "            port=cred['port'],\n",
    "            database=cred[\"database\"],\n",
    "            user=cred[\"user\"],\n",
    "            password=cred[\"password\"])\n",
    "        cur = conn.cursor()\n",
    "        continue\n"
   ]
  },
  {
   "cell_type": "code",
   "execution_count": 46,
   "id": "d91140d4",
   "metadata": {},
   "outputs": [
    {
     "data": {
      "text/plain": [
       "0"
      ]
     },
     "execution_count": 46,
     "metadata": {},
     "output_type": "execute_result"
    }
   ],
   "source": [
    "len(errorsLang)"
   ]
  },
  {
   "cell_type": "markdown",
   "id": "cc8a61cf",
   "metadata": {},
   "source": [
    "### Populate the Publishers Table"
   ]
  },
  {
   "cell_type": "code",
   "execution_count": 47,
   "id": "928ad6f0",
   "metadata": {},
   "outputs": [
    {
     "data": {
      "text/plain": [
       "array(['Scholastic Inc.', 'Scholastic', 'Nimble Books', ..., 'Suma',\n",
       "       'Panamericana Editorial', 'Editorial Presença'], dtype=object)"
      ]
     },
     "execution_count": 47,
     "metadata": {},
     "output_type": "execute_result"
    }
   ],
   "source": [
    "publishers = df['publisher'].unique()\n",
    "publishers"
   ]
  },
  {
   "cell_type": "code",
   "execution_count": 48,
   "id": "4fc0e509",
   "metadata": {},
   "outputs": [],
   "source": [
    "errorsPublishers = []\n",
    "for i, publisher in enumerate(publishers):\n",
    "    #print(i+1, authorName)\n",
    "    try:\n",
    "        cur.execute(f\"INSERT into publishers VALUES({i+1}, '{publisher}')\")\n",
    "        conn.commit()\n",
    "    except:\n",
    "        errorsPublishers.append((i+1,publisher))\n",
    "        #need to re-create connection\n",
    "        conn = psycopg2.connect(\n",
    "            host=cred[\"host\"],\n",
    "            port=cred['port'],\n",
    "            database=cred[\"database\"],\n",
    "            user=cred[\"user\"],\n",
    "            password=cred[\"password\"])\n",
    "        cur = conn.cursor()\n",
    "        continue\n"
   ]
  },
  {
   "cell_type": "code",
   "execution_count": 49,
   "id": "36c5eb8e",
   "metadata": {},
   "outputs": [
    {
     "data": {
      "text/plain": [
       "69"
      ]
     },
     "execution_count": 49,
     "metadata": {},
     "output_type": "execute_result"
    }
   ],
   "source": [
    "len(errorsPublishers)"
   ]
  },
  {
   "cell_type": "code",
   "execution_count": 50,
   "id": "1dbd441b",
   "metadata": {},
   "outputs": [
    {
     "data": {
      "text/plain": [
       "[(52, \"O'Reilly Media\"),\n",
       " (88, \"Sterling Children's Books\"),\n",
       " (112, \"Everyman's Library\"),\n",
       " (227, \"Everyman's Library 234\"),\n",
       " (285, \"Collector's Library\"),\n",
       " (306, \"G.P. Putnam's Sons\"),\n",
       " (371, \"Simon & Schuster Children's Publishing\"),\n",
       " (395, \"Children's Classics\"),\n",
       " (416, \"St. Martin's Griffin\"),\n",
       " (423, \"Hodder Children's Books\")]"
      ]
     },
     "execution_count": 50,
     "metadata": {},
     "output_type": "execute_result"
    }
   ],
   "source": [
    "errorsPublishers[:10]"
   ]
  },
  {
   "cell_type": "markdown",
   "id": "23f1c38c",
   "metadata": {},
   "source": [
    "This is a similar problem to the Author's name where we are facing a parsing issue. Therefore we can simply re-implement what we did for the Authors Table"
   ]
  },
  {
   "cell_type": "code",
   "execution_count": 51,
   "id": "e929cb88",
   "metadata": {},
   "outputs": [],
   "source": [
    "errorsPublishers2 = []\n",
    "for entry in errorsPublishers:\n",
    "    #print(i+1, authorName)\n",
    "    try:\n",
    "        cur.execute(f\"INSERT into publishers VALUES({entry[0]}, '{ removeQuote(entry[1]) }')\")\n",
    "        conn.commit()\n",
    "    except:\n",
    "        errorsPublishers2.append((entry[0],entry[1]))\n",
    "        #need to re-create connection\n",
    "        conn = psycopg2.connect(\n",
    "            host=cred[\"host\"],\n",
    "            port=cred['port'],\n",
    "            database=cred[\"database\"],\n",
    "            user=cred[\"user\"],\n",
    "            password=cred[\"password\"])\n",
    "        cur = conn.cursor()\n",
    "        continue\n",
    "    "
   ]
  },
  {
   "cell_type": "code",
   "execution_count": 52,
   "id": "d350e02b",
   "metadata": {},
   "outputs": [
    {
     "data": {
      "text/plain": [
       "0"
      ]
     },
     "execution_count": 52,
     "metadata": {},
     "output_type": "execute_result"
    }
   ],
   "source": [
    "len(errorsPublishers2)"
   ]
  },
  {
   "cell_type": "markdown",
   "id": "8937ec5a",
   "metadata": {},
   "source": [
    "### Creating the Books Table\n",
    "\n",
    "Now that we created the Author's, Publishers and Language Table, we can now create a Books Table which can reference the other tables"
   ]
  },
  {
   "cell_type": "markdown",
   "id": "b7a20210",
   "metadata": {},
   "source": [
    "**Books**( bookID, title, average_rating, isbn, isbn13, LanguageId, num_pages, ratings_count, text_reviews_count, publication_date, PublisherId)\n",
    "\n"
   ]
  },
  {
   "cell_type": "code",
   "execution_count": 53,
   "id": "e44525e4",
   "metadata": {},
   "outputs": [
    {
     "name": "stdout",
     "output_type": "stream",
     "text": [
      "<class 'pandas.core.frame.DataFrame'>\n",
      "Int64Index: 11123 entries, 0 to 11126\n",
      "Data columns (total 12 columns):\n",
      " #   Column              Non-Null Count  Dtype  \n",
      "---  ------              --------------  -----  \n",
      " 0   bookID              11123 non-null  float64\n",
      " 1   title               11123 non-null  object \n",
      " 2   authors             11123 non-null  object \n",
      " 3   average_rating      11123 non-null  float64\n",
      " 4   isbn                11123 non-null  object \n",
      " 5   isbn13              11123 non-null  float64\n",
      " 6   language_code       11123 non-null  object \n",
      " 7     num_pages         11123 non-null  float64\n",
      " 8   ratings_count       11123 non-null  float64\n",
      " 9   text_reviews_count  11123 non-null  float64\n",
      " 10  publication_date    11123 non-null  object \n",
      " 11  publisher           11123 non-null  object \n",
      "dtypes: float64(6), object(6)\n",
      "memory usage: 1.1+ MB\n"
     ]
    }
   ],
   "source": [
    "df.info()"
   ]
  },
  {
   "cell_type": "markdown",
   "id": "95c54a11",
   "metadata": {},
   "source": [
    "Here we will perform a few data pre-processing:\n",
    "- The first thing we want to do is convert the bookID column into an int since we will be using it as a primary key field\n",
    "- Convert publication_data into a date time object\n",
    "- Convert ratings count, num_pages and text_reviews_count to int\n",
    "- Convert the ISBN's to strings"
   ]
  },
  {
   "cell_type": "code",
   "execution_count": 54,
   "id": "8863a399",
   "metadata": {},
   "outputs": [],
   "source": [
    "df['bookID'] = df['bookID'].astype(dtype=int)"
   ]
  },
  {
   "cell_type": "code",
   "execution_count": 55,
   "id": "bfdc3bf3",
   "metadata": {},
   "outputs": [],
   "source": [
    "df['publication_date'] = pd.to_datetime(df['publication_date'], format=\"%m/%d/%Y\")"
   ]
  },
  {
   "cell_type": "code",
   "execution_count": 56,
   "id": "79ff8e61",
   "metadata": {},
   "outputs": [],
   "source": [
    "df['ratings_count'] = df['ratings_count'].astype(int)\n",
    "df['  num_pages'] = df['  num_pages'].astype(int)\n",
    "df['text_reviews_count'] = df['text_reviews_count'].astype(int)"
   ]
  },
  {
   "cell_type": "code",
   "execution_count": 57,
   "id": "0509afb3",
   "metadata": {},
   "outputs": [],
   "source": [
    "df.rename(columns={\"  num_pages\": \"num_pages\"}, inplace=True)"
   ]
  },
  {
   "cell_type": "code",
   "execution_count": 58,
   "id": "3eab72a0",
   "metadata": {},
   "outputs": [],
   "source": [
    "df['isbn'] = df['isbn'].astype(str)\n",
    "df['isbn13'] = df['isbn13'].astype(str)"
   ]
  },
  {
   "cell_type": "code",
   "execution_count": 59,
   "id": "0eace687",
   "metadata": {},
   "outputs": [
    {
     "name": "stdout",
     "output_type": "stream",
     "text": [
      "<class 'pandas.core.frame.DataFrame'>\n",
      "Int64Index: 11123 entries, 0 to 11126\n",
      "Data columns (total 12 columns):\n",
      " #   Column              Non-Null Count  Dtype         \n",
      "---  ------              --------------  -----         \n",
      " 0   bookID              11123 non-null  int64         \n",
      " 1   title               11123 non-null  object        \n",
      " 2   authors             11123 non-null  object        \n",
      " 3   average_rating      11123 non-null  float64       \n",
      " 4   isbn                11123 non-null  object        \n",
      " 5   isbn13              11123 non-null  object        \n",
      " 6   language_code       11123 non-null  object        \n",
      " 7   num_pages           11123 non-null  int64         \n",
      " 8   ratings_count       11123 non-null  int64         \n",
      " 9   text_reviews_count  11123 non-null  int64         \n",
      " 10  publication_date    11123 non-null  datetime64[ns]\n",
      " 11  publisher           11123 non-null  object        \n",
      "dtypes: datetime64[ns](1), float64(1), int64(4), object(6)\n",
      "memory usage: 1.1+ MB\n"
     ]
    }
   ],
   "source": [
    "df.info()"
   ]
  },
  {
   "cell_type": "code",
   "execution_count": 60,
   "id": "bf484f70",
   "metadata": {},
   "outputs": [
    {
     "data": {
      "text/html": [
       "<div>\n",
       "<style scoped>\n",
       "    .dataframe tbody tr th:only-of-type {\n",
       "        vertical-align: middle;\n",
       "    }\n",
       "\n",
       "    .dataframe tbody tr th {\n",
       "        vertical-align: top;\n",
       "    }\n",
       "\n",
       "    .dataframe thead th {\n",
       "        text-align: right;\n",
       "    }\n",
       "</style>\n",
       "<table border=\"1\" class=\"dataframe\">\n",
       "  <thead>\n",
       "    <tr style=\"text-align: right;\">\n",
       "      <th></th>\n",
       "      <th>bookID</th>\n",
       "      <th>title</th>\n",
       "      <th>authors</th>\n",
       "      <th>average_rating</th>\n",
       "      <th>isbn</th>\n",
       "      <th>isbn13</th>\n",
       "      <th>language_code</th>\n",
       "      <th>num_pages</th>\n",
       "      <th>ratings_count</th>\n",
       "      <th>text_reviews_count</th>\n",
       "      <th>publication_date</th>\n",
       "      <th>publisher</th>\n",
       "    </tr>\n",
       "  </thead>\n",
       "  <tbody>\n",
       "    <tr>\n",
       "      <th>11125</th>\n",
       "      <td>45639</td>\n",
       "      <td>Poor People</td>\n",
       "      <td>William T. Vollmann</td>\n",
       "      <td>3.72</td>\n",
       "      <td>60878827</td>\n",
       "      <td>9780000000000.0</td>\n",
       "      <td>eng</td>\n",
       "      <td>434</td>\n",
       "      <td>769</td>\n",
       "      <td>139</td>\n",
       "      <td>2007-02-27</td>\n",
       "      <td>Ecco</td>\n",
       "    </tr>\n",
       "    <tr>\n",
       "      <th>11126</th>\n",
       "      <td>45641</td>\n",
       "      <td>Las aventuras de Tom Sawyer</td>\n",
       "      <td>Mark Twain</td>\n",
       "      <td>3.91</td>\n",
       "      <td>8497646983</td>\n",
       "      <td>9790000000000.0</td>\n",
       "      <td>spa</td>\n",
       "      <td>272</td>\n",
       "      <td>113</td>\n",
       "      <td>12</td>\n",
       "      <td>2006-05-28</td>\n",
       "      <td>Edimat Libros</td>\n",
       "    </tr>\n",
       "  </tbody>\n",
       "</table>\n",
       "</div>"
      ],
      "text/plain": [
       "       bookID                        title              authors  \\\n",
       "11125   45639                  Poor People  William T. Vollmann   \n",
       "11126   45641  Las aventuras de Tom Sawyer           Mark Twain   \n",
       "\n",
       "       average_rating        isbn           isbn13 language_code  num_pages  \\\n",
       "11125            3.72    60878827  9780000000000.0           eng        434   \n",
       "11126            3.91  8497646983  9790000000000.0           spa        272   \n",
       "\n",
       "       ratings_count  text_reviews_count publication_date      publisher  \n",
       "11125            769                 139       2007-02-27           Ecco  \n",
       "11126            113                  12       2006-05-28  Edimat Libros  "
      ]
     },
     "execution_count": 60,
     "metadata": {},
     "output_type": "execute_result"
    }
   ],
   "source": [
    "df.tail(2)"
   ]
  },
  {
   "cell_type": "code",
   "execution_count": 61,
   "id": "98b6c4cc",
   "metadata": {},
   "outputs": [],
   "source": [
    "createBooksCmd = \"\"\"\n",
    "    CREATE TABLE IF NOT EXISTS books(\n",
    "        book_id INT PRIMARY KEY,\n",
    "        title VARCHAR(255) NOT NULL,\n",
    "        average_rating REAL NOT NULL,\n",
    "        isbn VARCHAR(255) NOT NULL,\n",
    "        isbn13 VARCHAR(255) NOT NULL,\n",
    "        num_pages INT NOT NULL,\n",
    "        ratings_count INT NOT NULL,\n",
    "        text_reviews_count INT NOT NULL,\n",
    "        publication_date TIMESTAMP,\n",
    "        publisher_id INT NOT NULL,\n",
    "        language_id INT NOT NULL,\n",
    "        FOREIGN KEY (publisher_id) REFERENCES publishers (publisher_id),\n",
    "        FOREIGN KEY (language_id) REFERENCES language (language_id)\n",
    "    \n",
    "    )\n",
    "\n",
    "\"\"\"\n",
    "cur.execute(createBooksCmd)\n",
    "conn.commit()"
   ]
  },
  {
   "cell_type": "markdown",
   "id": "797bf280",
   "metadata": {},
   "source": [
    "### Populate the Books Table"
   ]
  },
  {
   "cell_type": "markdown",
   "id": "0773dbfa",
   "metadata": {},
   "source": [
    "Before we proceed to populate the Book's Table, we need to write a function that will return the foreign key id for publisher and language code"
   ]
  },
  {
   "cell_type": "code",
   "execution_count": 62,
   "id": "e490b21a",
   "metadata": {},
   "outputs": [],
   "source": [
    "def getPublisherID(publisher_name):\n",
    "    query = f\"SELECT publisher_id FROM publishers WHERE publisher_name='{publisher_name}'\"\n",
    "    cur.execute(query)\n",
    "    return cur.fetchone()[0]\n",
    "\n",
    "def getLanguageID(language_code):\n",
    "    query = f\"SELECT language_id FROM language WHERE language_code='{language_code}'\"\n",
    "    cur.execute(query)\n",
    "    return cur.fetchone()[0]"
   ]
  },
  {
   "cell_type": "code",
   "execution_count": 63,
   "id": "3cfbf537",
   "metadata": {},
   "outputs": [],
   "source": [
    "books_df = list(df.itertuples(index=False, name=None))"
   ]
  },
  {
   "cell_type": "code",
   "execution_count": 64,
   "id": "fdca847a",
   "metadata": {},
   "outputs": [],
   "source": [
    "for item in books_df:\n",
    "    query = f\"\"\"\n",
    "        INSERT INTO books(\n",
    "        book_id, title, average_rating, isbn, isbn13, language_id, num_pages, ratings_count, text_reviews_count, publication_date, publisher_id\n",
    "        ) VALUES (\n",
    "        {item[0]},'{removeQuote(item[1])}',{item[3]},'{item[4]}','{item[5]}',{getLanguageID(item[6])},\n",
    "        {item[7]},{item[8]},{item[9]},'{item[10]}',{getPublisherID( removeQuote(item[11]) )}\n",
    "        )\n",
    "    \"\"\"\n",
    "    cur.execute(query)\n",
    "conn.commit()"
   ]
  },
  {
   "cell_type": "markdown",
   "id": "de95f507",
   "metadata": {},
   "source": [
    "### Create and Populate the BooksAuthor Table\n",
    "\n",
    "With the Books Table now in place along with the Authors Table, we now need to create a BooksAuthor Table that will capture the relationship between books and authors\n",
    "\n",
    "Previously we decided that the BooksAuthor table will look like this: \\\n",
    "**BooksAuthor**( AuthorID, BookID)"
   ]
  },
  {
   "cell_type": "code",
   "execution_count": 65,
   "id": "f085bb7b",
   "metadata": {},
   "outputs": [],
   "source": [
    "createBooksAuthCmd = \"\"\"\n",
    "    CREATE TABLE IF NOT EXISTS books_author(\n",
    "        book_id INT NOT NULL,\n",
    "        author_id INT NOT NULL,\n",
    "        PRIMARY KEY (book_id, author_id),\n",
    "        FOREIGN KEY (book_id) references books (book_id),\n",
    "        FOREIGN KEY (author_id) references authors (author_id)\n",
    "    )\n",
    "\"\"\"\n",
    "cur.execute(createBooksAuthCmd)\n",
    "conn.commit()"
   ]
  },
  {
   "cell_type": "markdown",
   "id": "39460d21",
   "metadata": {},
   "source": [
    "Since there are multiple authors for one book, we need to write a function that will do the following:\n",
    "\n",
    "1. For every row of the books data\n",
    "    1. Get the book_id\n",
    "    2. Extract the author's section, and split it on \"/\". This will return an array\n",
    "    3. For every author in the array:\n",
    "        1. Run the removeQuote func\n",
    "        2. Run a SQL query on the author's table to find the id\n",
    "        3. Given the author_id, write a SQL insert using book_id,author_id"
   ]
  },
  {
   "cell_type": "code",
   "execution_count": 66,
   "id": "5882b7d3",
   "metadata": {},
   "outputs": [
    {
     "data": {
      "text/plain": [
       "'\\nWhile running this i found that for book with id=2680, the author name is repeated twice:Xavier de C./Xavier de C./Joseph Rowe.\\nTherefore, we will introduce a set to take care of this.\\n'"
      ]
     },
     "execution_count": 66,
     "metadata": {},
     "output_type": "execute_result"
    }
   ],
   "source": [
    "for row in books_df:\n",
    "    book_id = row[0]\n",
    "    authors = set(row[2].split(\"/\")) #returns a set. See comment below\n",
    "    for author_name in authors:\n",
    "        author_name_fltr = removeQuote(author_name)\n",
    "        find = f\"SELECT author_id FROM authors WHERE author_name='{author_name_fltr}'\"\n",
    "        cur.execute(find)\n",
    "        author_id = cur.fetchone()[0]\n",
    "        insertCMD = f\"\"\"\n",
    "            INSERT INTO books_author(book_id, author_id)\n",
    "            VALUES ({book_id}, {author_id})\"\"\"\n",
    "        cur.execute(insertCMD)\n",
    "conn.commit()\n",
    "\n",
    "\"\"\"\n",
    "While running this i found that for book with id=2680, the author name is repeated twice:Xavier de C./Xavier de C./Joseph Rowe.\n",
    "Therefore, we will introduce a set to take care of this.\n",
    "\"\"\""
   ]
  },
  {
   "cell_type": "code",
   "execution_count": 67,
   "id": "d8e4ff45",
   "metadata": {},
   "outputs": [
    {
     "data": {
      "text/html": [
       "<div>\n",
       "<style scoped>\n",
       "    .dataframe tbody tr th:only-of-type {\n",
       "        vertical-align: middle;\n",
       "    }\n",
       "\n",
       "    .dataframe tbody tr th {\n",
       "        vertical-align: top;\n",
       "    }\n",
       "\n",
       "    .dataframe thead th {\n",
       "        text-align: right;\n",
       "    }\n",
       "</style>\n",
       "<table border=\"1\" class=\"dataframe\">\n",
       "  <thead>\n",
       "    <tr style=\"text-align: right;\">\n",
       "      <th></th>\n",
       "      <th>bookID</th>\n",
       "      <th>title</th>\n",
       "      <th>authors</th>\n",
       "      <th>average_rating</th>\n",
       "      <th>isbn</th>\n",
       "      <th>isbn13</th>\n",
       "      <th>language_code</th>\n",
       "      <th>num_pages</th>\n",
       "      <th>ratings_count</th>\n",
       "      <th>text_reviews_count</th>\n",
       "      <th>publication_date</th>\n",
       "      <th>publisher</th>\n",
       "    </tr>\n",
       "  </thead>\n",
       "  <tbody>\n",
       "    <tr>\n",
       "      <th>804</th>\n",
       "      <td>2680</td>\n",
       "      <td>Empire 2.0: A Modest Proposal for a United Sta...</td>\n",
       "      <td>Xavier de C./Xavier de C./Joseph Rowe</td>\n",
       "      <td>4.67</td>\n",
       "      <td>1556434952</td>\n",
       "      <td>9780000000000.0</td>\n",
       "      <td>eng</td>\n",
       "      <td>144</td>\n",
       "      <td>3</td>\n",
       "      <td>0</td>\n",
       "      <td>2004-05-04</td>\n",
       "      <td>North Atlantic Books</td>\n",
       "    </tr>\n",
       "  </tbody>\n",
       "</table>\n",
       "</div>"
      ],
      "text/plain": [
       "     bookID                                              title  \\\n",
       "804    2680  Empire 2.0: A Modest Proposal for a United Sta...   \n",
       "\n",
       "                                   authors  average_rating        isbn  \\\n",
       "804  Xavier de C./Xavier de C./Joseph Rowe            4.67  1556434952   \n",
       "\n",
       "              isbn13 language_code  num_pages  ratings_count  \\\n",
       "804  9780000000000.0           eng        144              3   \n",
       "\n",
       "     text_reviews_count publication_date             publisher  \n",
       "804                   0       2004-05-04  North Atlantic Books  "
      ]
     },
     "execution_count": 67,
     "metadata": {},
     "output_type": "execute_result"
    }
   ],
   "source": [
    "df[df['bookID']==2680]"
   ]
  },
  {
   "cell_type": "markdown",
   "id": "29d59077",
   "metadata": {},
   "source": [
    "## Queries\n",
    "\n",
    "Now that we have the database in place, we want to answer the following questions: \n",
    "1. What are the oldest 5 books in this dataset?\n",
    "2. Which 5 language codes have the highest rating average?\n",
    "3. Which 5 authors have the highest number of ratings?\n",
    "4. Which publishers publish in the highest number of different languages?"
   ]
  },
  {
   "cell_type": "code",
   "execution_count": 60,
   "id": "68668fe0",
   "metadata": {},
   "outputs": [
    {
     "name": "stdout",
     "output_type": "stream",
     "text": [
      "Connecting to the PostgreSQL database...\n"
     ]
    }
   ],
   "source": [
    "print('Connecting to the PostgreSQL database...')\n",
    "conn = psycopg2.connect(\n",
    "    host=cred[\"host\"],\n",
    "    port=cred['port'],\n",
    "    database=cred[\"database\"],\n",
    "    user=cred[\"user\"],\n",
    "    password=cred[\"password\"])\n",
    "cur = conn.cursor()"
   ]
  },
  {
   "cell_type": "markdown",
   "id": "1dcfa37c",
   "metadata": {},
   "source": [
    "### What are the oldest 5 books in this dataset?"
   ]
  },
  {
   "cell_type": "code",
   "execution_count": 5,
   "id": "46dd3d3e",
   "metadata": {},
   "outputs": [
    {
     "name": "stdout",
     "output_type": "stream",
     "text": [
      "Consider the Lilies\n",
      "On Duties (De Officiis)\n",
      "Agricola / Germania / Dialogue on Oratory\n",
      "History of the Peloponnesian War: Bk. 1-2\n",
      "History of the Peloponnesian War: Bk. 5-6\n"
     ]
    }
   ],
   "source": [
    "query = \"\"\"\n",
    "    SELECT title, publication_date FROM books\n",
    "    ORDER BY publication_date ASC\n",
    "    LIMIT 5\n",
    "\"\"\"\n",
    "cur.execute(query)\n",
    "for row in cur:\n",
    "    print(row[0])"
   ]
  },
  {
   "cell_type": "markdown",
   "id": "1d2de453",
   "metadata": {},
   "source": [
    "### Which 5 language codes have the highest rating average?"
   ]
  },
  {
   "cell_type": "code",
   "execution_count": 19,
   "id": "66a24c59",
   "metadata": {},
   "outputs": [
    {
     "name": "stdout",
     "output_type": "stream",
     "text": [
      "('book_id', 'language_code', 'average_rating')\n",
      "(22, 'wel', 5.0)\n",
      "(26, 'gla', 4.46999979019165)\n",
      "(14, 'zho', 4.456428595951626)\n",
      "(25, 'tur', 4.420000076293945)\n",
      "(27, 'ale', 4.360000133514404)\n"
     ]
    }
   ],
   "source": [
    "query = \"\"\"\n",
    "    SELECT books.language_id, language.language_code, AVG(books.average_rating) as avg\n",
    "    FROM books\n",
    "    INNER JOIN language\n",
    "        ON books.language_id = language.language_id\n",
    "    GROUP BY books.language_id,language.language_code\n",
    "    ORDER BY avg DESC\n",
    "    LIMIT 5\n",
    "\"\"\"\n",
    "cur.execute(query)\n",
    "print((\"book_id\",\"language_code\",\"average_rating\"))\n",
    "for row in cur:\n",
    "    print(row)"
   ]
  },
  {
   "cell_type": "markdown",
   "id": "9d7278af",
   "metadata": {},
   "source": [
    "### Which 5 authors have the highest number of ratings?"
   ]
  },
  {
   "cell_type": "markdown",
   "id": "6de5d010",
   "metadata": {},
   "source": [
    "**Note:**\n",
    "\n",
    "Every book has a certain number of ratings_count. Every book has been written by one or more authors. "
   ]
  },
  {
   "cell_type": "code",
   "execution_count": 58,
   "id": "ed936126",
   "metadata": {},
   "outputs": [
    {
     "name": "stdout",
     "output_type": "stream",
     "text": [
      "('auhthor', '# of ratings')\n",
      "('J.K. Rowling', 9265287)\n",
      "('Mary GrandPré', 8923980)\n",
      "('J.R.R. Tolkien', 5622283)\n",
      "('Stephenie Meyer', 4597666)\n",
      "('Stephen King', 4288299)\n"
     ]
    }
   ],
   "source": [
    "query = \"\"\"\n",
    "    SELECT authors.author_name, SUM(books.ratings_count) AS no_of_ratings\n",
    "    FROM books\n",
    "    INNER JOIN books_author\n",
    "        ON books.book_id = books_author.book_id\n",
    "    INNER JOIN authors\n",
    "        ON books_author.author_id = authors.author_id\n",
    "    GROUP BY authors.author_name\n",
    "    ORDER BY no_of_ratings DESC\n",
    "    LIMIT 5\n",
    "\"\"\"\n",
    "cur.execute(query)\n",
    "print((\"auhthor\", \"# of ratings\"))\n",
    "for row in cur:\n",
    "    print(row)"
   ]
  },
  {
   "cell_type": "markdown",
   "id": "dacaacfb",
   "metadata": {},
   "source": [
    "### Which publishers publish in the highest number of different languages?"
   ]
  },
  {
   "cell_type": "code",
   "execution_count": 61,
   "id": "8f605e5c",
   "metadata": {},
   "outputs": [
    {
     "name": "stdout",
     "output_type": "stream",
     "text": [
      "('publisher', '# of language published')\n",
      "('Oxford University Press  USA', 6)\n"
     ]
    }
   ],
   "source": [
    "query = \"\"\"\n",
    "    SELECT publisher, COUNT(code) AS no_language_published\n",
    "    FROM (SELECT publishers.publisher_name as publisher, language.language_code as code, COUNT(language.language_code) as lang_count\n",
    "        FROM books\n",
    "        INNER JOIN language\n",
    "            ON books.language_id = language.language_id\n",
    "        INNER JOIN publishers\n",
    "            ON books.publisher_id = publishers.publisher_id\n",
    "        GROUP BY publishers.publisher_name, language.language_code\n",
    "        ORDER BY lang_count DESC) AS publisher_language_table\n",
    "    GROUP BY publisher\n",
    "    ORDER BY no_language_published DESC\n",
    "    LIMIT 1\n",
    "\"\"\"\n",
    "cur.execute(query)\n",
    "print((\"publisher\", \"# of language published\"))\n",
    "for row in cur:\n",
    "    print(row)"
   ]
  },
  {
   "cell_type": "markdown",
   "id": "c69131cb",
   "metadata": {},
   "source": [
    "**Note**:\n",
    "I want to reiterate a note I made earlier which is that authors and publishers that has names like O'Reilly Media,Sterling Children's Books appear as OReilly Media,Sterling Childrens in my database"
   ]
  },
  {
   "cell_type": "code",
   "execution_count": null,
   "id": "afff4278",
   "metadata": {},
   "outputs": [],
   "source": []
  }
 ],
 "metadata": {
  "kernelspec": {
   "display_name": "Python 3 (ipykernel)",
   "language": "python",
   "name": "python3"
  },
  "language_info": {
   "codemirror_mode": {
    "name": "ipython",
    "version": 3
   },
   "file_extension": ".py",
   "mimetype": "text/x-python",
   "name": "python",
   "nbconvert_exporter": "python",
   "pygments_lexer": "ipython3",
   "version": "3.10.10"
  }
 },
 "nbformat": 4,
 "nbformat_minor": 5
}
